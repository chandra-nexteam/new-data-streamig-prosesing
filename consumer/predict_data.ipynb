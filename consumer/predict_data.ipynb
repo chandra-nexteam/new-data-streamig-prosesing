{
 "cells": [
  {
   "cell_type": "code",
   "execution_count": null,
   "id": "e711aa92-307d-40bc-bb73-21a0ac8deb0f",
   "metadata": {},
   "outputs": [],
   "source": [
    "import os\n",
    "import json\n",
    "from model import modelRecruitment\n",
    "\n",
    "with open('../config.json','rb') as file:\n",
    "    config = json.load(file)\n",
    "\n",
    "path_to_model = os.getcwd() + \"/model\""
   ]
  },
  {
   "cell_type": "code",
   "execution_count": null,
   "id": "b0ac3975-c919-46a0-b9b7-394ee528c4b9",
   "metadata": {},
   "outputs": [],
   "source": [
    "from pymongo import MongoClient\n",
    "\n",
    "host = config['mongodb']['host']\n",
    "port = config['mongodb']['port']\n",
    "user = config['mongodb']['user']\n",
    "password = config['mongodb']['password']\n",
    "\n",
    "try:\n",
    "    server = MongoClient(f'mongodb://{user}:{password}@{host}:{port}/')\n",
    "    db = server.admin\n",
    "    server_status = db.command(\"ping\")\n",
    "    print(\"MongoDB connection successful:\", server_status)\n",
    "\n",
    "    databases = server.list_database_names()\n",
    "    print(\"Databases:\", databases)\n",
    "\n",
    "except Exception as e:\n",
    "    print(\"An error occurred:\", e)"
   ]
  },
  {
   "cell_type": "code",
   "execution_count": null,
   "id": "dd12d28d-98ed-4adc-b37b-10029a466e3f",
   "metadata": {
    "scrolled": true
   },
   "outputs": [],
   "source": [
    "import pandas as pd\n",
    "\n",
    "def predict_row(row):\n",
    "    data_predict = row.to_dict()\n",
    "    return modelRecruitment.runModel(data_predict, path_to_model)\n",
    "\n",
    "db = server[\"ftde3\"]\n",
    "collection = db[\"kelompok2_data_recruitment_selection_raw\"]\n",
    "\n",
    "data = pd.DataFrame(list(collection.find()))\n",
    "\n",
    "columns_to_drop = ['_id', 'CandidateID', 'Name', 'ApplicationDate', 'InterviewDate']\n",
    "data_predict = data.drop(columns=columns_to_drop, axis=1)\n",
    "\n",
    "data['Predict'] = data_predict.apply(predict_row, axis=1)"
   ]
  },
  {
   "cell_type": "code",
   "execution_count": null,
   "id": "9450b9de-a8e1-438c-b5cc-d45a9585f508",
   "metadata": {
    "scrolled": true
   },
   "outputs": [],
   "source": [
    "new_data = data.drop(columns=['_id']).to_dict(orient='records')\n",
    "\n",
    "db = server[\"ftde3\"]\n",
    "collection = db[\"kelompok2_data_recruitment_selection\"]\n",
    "\n",
    "collection.insert_many(new_data)"
   ]
  }
 ],
 "metadata": {
  "kernelspec": {
   "display_name": "Python 3 (ipykernel)",
   "language": "python",
   "name": "python3"
  },
  "language_info": {
   "codemirror_mode": {
    "name": "ipython",
    "version": 3
   },
   "file_extension": ".py",
   "mimetype": "text/x-python",
   "name": "python",
   "nbconvert_exporter": "python",
   "pygments_lexer": "ipython3",
   "version": "3.12.7"
  }
 },
 "nbformat": 4,
 "nbformat_minor": 5
}

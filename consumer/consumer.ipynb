{
 "cells": [
  {
   "cell_type": "code",
   "execution_count": 1,
   "id": "a0acb004-f79c-4321-b7b0-ac22eba65285",
   "metadata": {},
   "outputs": [],
   "source": [
    "import json\n",
    "with open('../config.json','rb') as file:\n",
    "    config = json.load(file)\n",
    "\n",
    "kafka_host = config['kafka']['host']"
   ]
  },
  {
   "cell_type": "code",
   "execution_count": null,
   "id": "83ea7fdb-6a67-42d5-9664-b94eff4df3ef",
   "metadata": {},
   "outputs": [],
   "source": [
    "from pymongo import MongoClient\n",
    "\n",
    "host = config['mongodb']['host']\n",
    "port = config['mongodb']['port']\n",
    "user = config['mongodb']['user']\n",
    "password = config['mongodb']['password']\n",
    "\n",
    "try:\n",
    "    server = MongoClient(f'mongodb://{user}:{password}@{host}:{port}/')\n",
    "    db = server.admin\n",
    "    server_status = db.command(\"ping\")\n",
    "    print(\"MongoDB connection successful:\", server_status)\n",
    "\n",
    "    databases = server.list_database_names()\n",
    "    print(\"Databases:\", databases)\n",
    "\n",
    "except Exception as e:\n",
    "    print(\"An error occurred:\", e)"
   ]
  },
  {
   "cell_type": "code",
   "execution_count": null,
   "id": "1a91d0eb-58e9-4c8e-b927-90ef5b549137",
   "metadata": {
    "scrolled": true
   },
   "outputs": [],
   "source": [
    "from confluent_kafka import Consumer, KafkaException\n",
    "import json\n",
    "import pandas as pd\n",
    "from pymongo import MongoClient\n",
    "\n",
    "if __name__ == \"__main__\":\n",
    "    consumer_config = {\n",
    "        'bootstrap.servers': kafka_host,\n",
    "        'group.id': 'kelompok2-data-consumer-group',\n",
    "        'auto.offset.reset': 'earliest',\n",
    "        'enable.auto.commit': False\n",
    "    }\n",
    "    \n",
    "    consumer = Consumer(consumer_config)\n",
    "    consumer.subscribe([\"kelompok2-data-recruitment-selection\"])\n",
    "\n",
    "    print(\"Starting the consumer\")\n",
    "\n",
    "    try:\n",
    "        while True:\n",
    "            msg = consumer.poll(1.0)\n",
    "            \n",
    "            if msg is None:\n",
    "                continue\n",
    "            elif msg.error():\n",
    "                if msg.error().code() == KafkaError._PARTITION_EOF:\n",
    "                    print(f\"End of partition reached: {msg.topic()} [{msg.partition()}]\")\n",
    "                else:\n",
    "                    raise KafkaException(msg.error())\n",
    "            else:\n",
    "                print(f\"Records = {json.loads(msg.value().decode('utf-8'))}\")\n",
    "                \n",
    "                data = json.loads(msg.value().decode('utf-8'))\n",
    "                producer = pd.DataFrame([data])\n",
    "                \n",
    "                db = server[\"ftde3\"]\n",
    "                collection = db[\"kelompok2_data_recruitment_selection_raw\"]\n",
    "    \n",
    "                if isinstance(producer.to_dict('index')[0], list):\n",
    "                    collection.insert_many(producer.to_dict('index')[0])\n",
    "                else:\n",
    "                    collection.insert_one(producer.to_dict('index')[0])\n",
    "                \n",
    "                print(\"Data has been saved to MongoDB\")\n",
    "    except KeyboardInterrupt:\n",
    "        print(\"Consumer interrupted\")\n",
    "    finally:\n",
    "        consumer.close()"
   ]
  }
 ],
 "metadata": {
  "kernelspec": {
   "display_name": "Python 3 (ipykernel)",
   "language": "python",
   "name": "python3"
  },
  "language_info": {
   "codemirror_mode": {
    "name": "ipython",
    "version": 3
   },
   "file_extension": ".py",
   "mimetype": "text/x-python",
   "name": "python",
   "nbconvert_exporter": "python",
   "pygments_lexer": "ipython3",
   "version": "3.12.7"
  }
 },
 "nbformat": 4,
 "nbformat_minor": 5
}

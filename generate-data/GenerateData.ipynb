{
 "cells": [
  {
   "cell_type": "code",
   "execution_count": 1,
   "id": "e59d1026-6cdc-4e41-afd9-c5933d1b00e0",
   "metadata": {},
   "outputs": [],
   "source": [
    "import random\n",
    "from datetime import datetime, timedelta\n",
    "from faker import Faker\n",
    "\n",
    "fake = Faker()"
   ]
  },
  {
   "cell_type": "code",
   "execution_count": 2,
   "id": "9f936927-6a20-4bc1-ab12-807a0e09dcb8",
   "metadata": {},
   "outputs": [
    {
     "data": {
      "text/plain": [
       "'Police officer'"
      ]
     },
     "execution_count": 2,
     "metadata": {},
     "output_type": "execute_result"
    }
   ],
   "source": [
    "fake.job()"
   ]
  },
  {
   "cell_type": "code",
   "execution_count": 3,
   "id": "ea7602a3-b50d-4154-8d66-5433f37948d4",
   "metadata": {},
   "outputs": [],
   "source": [
    "import random\n",
    "from datetime import datetime, timedelta\n",
    "from faker import Faker\n",
    "\n",
    "fake = Faker()\n",
    "\n",
    "# Fungsi untuk menghasilkan data acak\n",
    "def generate_data(num_rows):\n",
    "    names = [fake.name() for _ in range(1001)]\n",
    "    positions = [\n",
    "        \"Data Engineer\", \"Data Scientist\", \"Software Engineer\", \"HR Manager\", \"Project Manager\", \"Systems Analyst\",\n",
    "        \"Network Administrator\", \"Database Administrator\", \"Web Developer\", \"UI/UX Designer\", \"DevOps Engineer\",\n",
    "        \"Technical Support\", \"IT Manager\", \"Business Analyst\", \"Security Analyst\"]\n",
    "    \n",
    "    departments = [\n",
    "        \"IT\", \"HR\", \"Finance\", \"Marketing\", \"Sales\", \"Operations\", \"Customer Service\", \"Legal\", \"R&D\", \"Procurement\"]\n",
    "    \n",
    "    genders = [\"Male\", \"Female\"]\n",
    "    \n",
    "    data_recruitment_selection = []\n",
    "    data_management_payroll = []\n",
    "    data_training_development = []\n",
    "    data_performance_management = []\n",
    "    \n",
    "    for i in range(num_rows):\n",
    "        # Recruitment & Selection\n",
    "        candidate = {\n",
    "            \"CandidateID\": i + 1,\n",
    "            \"Name\": random.choice(names),\n",
    "            \"Gender\": random.choice(genders),\n",
    "            \"Age\": random.randint(22, 60),\n",
    "            \"Position\": random.choice(positions),\n",
    "            \"ApplicationDate\": (datetime.now() - timedelta(days=random.randint(0, 365))).strftime(\"%Y-%m-%d\"),\n",
    "            \"Status\": random.choice([\"Interviewed\", \"Rejected\"]),\n",
    "            \"InterviewDate\": (datetime.now() - timedelta(days=random.randint(0, 365))).strftime(\"%Y-%m-%d\") if random.choice([True, False]) else None,\n",
    "            \"OfferStatus\": random.choice([\"Hired\", None])\n",
    "        }\n",
    "        data_recruitment_selection.append(candidate)\n",
    "        \n",
    "        # Management & Payroll\n",
    "        employee = {\n",
    "            \"EmployeeID\": i + 101,\n",
    "            \"Name\": random.choice(names),\n",
    "            \"Gender\": random.choice(genders),\n",
    "            \"Age\": random.randint(22, 60),\n",
    "            \"Department\": random.choice(departments),\n",
    "            \"Position\": random.choice(positions),\n",
    "            \"Salary\": random.randint(50000, 120000),\n",
    "            \"OvertimePay\": random.randint(0, 5000),\n",
    "            \"PaymentDate\": (datetime.now() - timedelta(days=random.randint(0, 30))).strftime(\"%Y-%m-%d\")\n",
    "        }\n",
    "        data_management_payroll.append(employee)\n",
    "        \n",
    "        # Training & Development\n",
    "        training = {\n",
    "            \"EmployeeID\": i + 101,\n",
    "            \"Name\": random.choice(names),\n",
    "            \"TrainingProgram\": random.choice([\"Advanced SQL\", \"Leadership Skills\", \"Cloud Computing\"]),\n",
    "            \"StartDate\": (datetime.now() - timedelta(days=random.randint(0, 180))).strftime(\"%Y-%m-%d\"),\n",
    "            \"EndDate\": (datetime.now() - timedelta(days=random.randint(0, 30))).strftime(\"%Y-%m-%d\"),\n",
    "            \"Status\": random.choice([\"Completed\", \"Ongoing\"])\n",
    "        }\n",
    "        data_training_development.append(training)\n",
    "        \n",
    "        # Performance Management\n",
    "        performance = {\n",
    "            \"EmployeeID\": i + 101,\n",
    "            \"Name\": random.choice(names),\n",
    "            \"ReviewPeriod\": f\"Q{i % 4 + 1} 2023\",\n",
    "            \"Rating\": round(random.uniform(1.0, 5.0), 1),\n",
    "            \"Comments\": random.choice([\"Excellent performance\", \"Good performance\", \"Very good performance\", \"Needs improvement\"])\n",
    "        }\n",
    "        data_performance_management.append(performance)\n",
    "    \n",
    "    return data_recruitment_selection, data_management_payroll, data_training_development, data_performance_management\n",
    "\n",
    "# Menghasilkan lebih dari 1000 baris data\n",
    "num_rows = 1100\n",
    "data_recruitment_selection, data_management_payroll, data_training_development, data_performance_management = generate_data(num_rows)"
   ]
  },
  {
   "cell_type": "code",
   "execution_count": 4,
   "id": "c2bcd084-3b27-4c96-822f-0c9510ac443f",
   "metadata": {},
   "outputs": [
    {
     "name": "stdout",
     "output_type": "stream",
     "text": [
      "Data berhasil diekspor ke file CSV.\n"
     ]
    }
   ],
   "source": [
    "import pandas as pd\n",
    "\n",
    "df_recruitment_selection = pd.DataFrame(data_recruitment_selection)\n",
    "df_management_payroll = pd.DataFrame(data_management_payroll)\n",
    "df_training_development = pd.DataFrame(data_training_development)\n",
    "df_performance_management = pd.DataFrame(data_performance_management)\n",
    "\n",
    "# Mengekspor DataFrame ke file CSV\n",
    "df_recruitment_selection.to_csv('data/data_recruitment_selection.csv', index=False)\n",
    "df_management_payroll.to_csv('data/data_management_payroll.csv', index=False)\n",
    "df_training_development.to_csv('data/data_training_development.csv', index=False)\n",
    "df_performance_management.to_csv('data/data_performance_management.csv', index=False)\n",
    "\n",
    "print(\"Data berhasil diekspor ke file CSV.\")"
   ]
  },
  {
   "cell_type": "code",
   "execution_count": 5,
   "id": "e73d14dc-8e43-420a-b8b7-c01160a4b7a2",
   "metadata": {},
   "outputs": [
    {
     "data": {
      "text/plain": [
       "[{'CandidateID': 1,\n",
       "  'Name': 'Elizabeth Nicholson',\n",
       "  'Gender': 'Male',\n",
       "  'Age': 47,\n",
       "  'Position': 'Network Administrator',\n",
       "  'ApplicationDate': '2024-04-12',\n",
       "  'Status': 'Rejected',\n",
       "  'InterviewDate': None,\n",
       "  'OfferStatus': 'Hired'},\n",
       " {'CandidateID': 2,\n",
       "  'Name': 'Chad Patton',\n",
       "  'Gender': 'Male',\n",
       "  'Age': 45,\n",
       "  'Position': 'Network Administrator',\n",
       "  'ApplicationDate': '2024-07-30',\n",
       "  'Status': 'Interviewed',\n",
       "  'InterviewDate': None,\n",
       "  'OfferStatus': 'Hired'},\n",
       " {'CandidateID': 3,\n",
       "  'Name': 'John Wells',\n",
       "  'Gender': 'Female',\n",
       "  'Age': 29,\n",
       "  'Position': 'IT Manager',\n",
       "  'ApplicationDate': '2024-04-26',\n",
       "  'Status': 'Interviewed',\n",
       "  'InterviewDate': None,\n",
       "  'OfferStatus': 'Hired'},\n",
       " {'CandidateID': 4,\n",
       "  'Name': 'Kevin Schwartz',\n",
       "  'Gender': 'Male',\n",
       "  'Age': 39,\n",
       "  'Position': 'Systems Analyst',\n",
       "  'ApplicationDate': '2024-08-19',\n",
       "  'Status': 'Rejected',\n",
       "  'InterviewDate': None,\n",
       "  'OfferStatus': None},\n",
       " {'CandidateID': 5,\n",
       "  'Name': 'Jennifer Walker',\n",
       "  'Gender': 'Male',\n",
       "  'Age': 52,\n",
       "  'Position': 'Network Administrator',\n",
       "  'ApplicationDate': '2024-11-28',\n",
       "  'Status': 'Rejected',\n",
       "  'InterviewDate': None,\n",
       "  'OfferStatus': 'Hired'}]"
      ]
     },
     "execution_count": 5,
     "metadata": {},
     "output_type": "execute_result"
    }
   ],
   "source": [
    "data_recruitment_selection[0:5]"
   ]
  }
 ],
 "metadata": {
  "kernelspec": {
   "display_name": "Python 3 (ipykernel)",
   "language": "python",
   "name": "python3"
  },
  "language_info": {
   "codemirror_mode": {
    "name": "ipython",
    "version": 3
   },
   "file_extension": ".py",
   "mimetype": "text/x-python",
   "name": "python",
   "nbconvert_exporter": "python",
   "pygments_lexer": "ipython3",
   "version": "3.12.7"
  }
 },
 "nbformat": 4,
 "nbformat_minor": 5
}

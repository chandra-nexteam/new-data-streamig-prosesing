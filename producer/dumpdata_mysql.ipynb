{
 "cells": [
  {
   "cell_type": "code",
   "execution_count": 1,
   "id": "7912b56c-f749-48ee-a96d-e8de9c714366",
   "metadata": {},
   "outputs": [],
   "source": [
    "import json\n",
    "with open('../config.json','rb') as file:\n",
    "    config = json.load(file)"
   ]
  },
  {
   "cell_type": "code",
   "execution_count": 2,
   "id": "e5d38238-d997-4717-8145-5d8f52af3da3",
   "metadata": {},
   "outputs": [
    {
     "name": "stdout",
     "output_type": "stream",
     "text": [
      "Data has inserted to table kelompok2_data_training_development.\n"
     ]
    }
   ],
   "source": [
    "import pandas as pd\n",
    "import urllib.parse\n",
    "\n",
    "from sqlalchemy import create_engine\n",
    "\n",
    "def insert_data_to_postgresql(df, table_name, db_url):\n",
    "    try:\n",
    "        engine = create_engine(db_url)\n",
    "\n",
    "        df.to_sql(table_name, engine, if_exists='replace', index=False)\n",
    "        print(f\"Data has inserted to table {table_name}.\")\n",
    "    except Exception as e:\n",
    "        print(f\"Error: {e}\")\n",
    "\n",
    "def process_data(config, file_path, table_name):\n",
    "    data = pd.read_csv(file_path)\n",
    "    \n",
    "    host = config['mysql']['host']\n",
    "    port = config['mysql']['port']\n",
    "    database = config['mysql']['db']\n",
    "    username = config['mysql']['user']\n",
    "    password = config['mysql']['password']\n",
    "    \n",
    "    db_url = f\"mysql+pymysql://{username}:{urllib.parse.quote_plus(password)}@{host}:{port}/{database}\"\n",
    "\n",
    "    table_name = table_name\n",
    "    insert_data_to_postgresql(data, table_name, db_url)\n",
    "\n",
    "if __name__ == \"__main__\":\n",
    "    process_data(config, \"data/data_training_development_update.csv\", \"kelompok2_data_training_development\")"
   ]
  }
 ],
 "metadata": {
  "kernelspec": {
   "display_name": "Python 3 (ipykernel)",
   "language": "python",
   "name": "python3"
  },
  "language_info": {
   "codemirror_mode": {
    "name": "ipython",
    "version": 3
   },
   "file_extension": ".py",
   "mimetype": "text/x-python",
   "name": "python",
   "nbconvert_exporter": "python",
   "pygments_lexer": "ipython3",
   "version": "3.12.7"
  }
 },
 "nbformat": 4,
 "nbformat_minor": 5
}

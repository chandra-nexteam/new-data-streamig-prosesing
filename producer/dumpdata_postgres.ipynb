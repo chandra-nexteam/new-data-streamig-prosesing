{
 "cells": [
  {
   "cell_type": "code",
   "execution_count": 1,
   "id": "d8a01305-6655-4961-8ae4-44d14a3cff4f",
   "metadata": {},
   "outputs": [],
   "source": [
    "import json\n",
    "with open('../config.json','rb') as file:\n",
    "    config = json.load(file)"
   ]
  },
  {
   "cell_type": "code",
   "execution_count": 2,
   "id": "4c5271d3-1a90-482b-9719-2639c1906448",
   "metadata": {},
   "outputs": [
    {
     "name": "stdout",
     "output_type": "stream",
     "text": [
      "Data has inserted to table kelompok2_data_management_payroll.\n",
      "Data has inserted to table kelompok2_data_performance_management.\n"
     ]
    }
   ],
   "source": [
    "import pandas as pd\n",
    "import urllib.parse\n",
    "\n",
    "from sqlalchemy import create_engine\n",
    "\n",
    "def insert_data_to_postgresql(df, table_name, db_url):\n",
    "    try:\n",
    "        engine = create_engine(db_url)\n",
    "\n",
    "        df.to_sql(table_name, engine, if_exists='replace', index=False)\n",
    "        print(f\"Data has inserted to table {table_name}.\")\n",
    "    except Exception as e:\n",
    "        print(f\"Error: {e}\")\n",
    "\n",
    "def process_data(config, file_path, table_name):\n",
    "    data = pd.read_csv(file_path)\n",
    "    \n",
    "    host = config['postgres']['host']\n",
    "    port = config['postgres']['port']\n",
    "    database = config['postgres']['db']\n",
    "    username = config['postgres']['user']\n",
    "    password = config['postgres']['password']\n",
    "    \n",
    "    db_url = f\"postgresql://{username}:{urllib.parse.quote_plus(password)}@{host}:{port}/{database}\"\n",
    "\n",
    "    insert_data_to_postgresql(data, table_name, db_url)\n",
    "\n",
    "if __name__ == \"__main__\":\n",
    "    process_data(config, \"data/data_management_payroll_update.csv\", \"kelompok2_data_management_payroll\")\n",
    "    process_data(config, \"data/data_performance_management_update.csv\", \"kelompok2_data_performance_management\")"
   ]
  }
 ],
 "metadata": {
  "kernelspec": {
   "display_name": "Python 3 (ipykernel)",
   "language": "python",
   "name": "python3"
  },
  "language_info": {
   "codemirror_mode": {
    "name": "ipython",
    "version": 3
   },
   "file_extension": ".py",
   "mimetype": "text/x-python",
   "name": "python",
   "nbconvert_exporter": "python",
   "pygments_lexer": "ipython3",
   "version": "3.12.7"
  }
 },
 "nbformat": 4,
 "nbformat_minor": 5
}

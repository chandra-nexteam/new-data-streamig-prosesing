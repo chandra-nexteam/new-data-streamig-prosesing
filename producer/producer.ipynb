{
 "cells": [
  {
   "cell_type": "code",
   "execution_count": null,
   "id": "866c7cd0",
   "metadata": {},
   "outputs": [],
   "source": [
    "import json\n",
    "with open('../config.json','rb') as file:\n",
    "    config = json.load(file)\n",
    "\n",
    "kafka_host = config['kafka']['host']"
   ]
  },
  {
   "cell_type": "code",
   "execution_count": null,
   "id": "3069fc1d-a544-45cb-ac50-6092893a749c",
   "metadata": {
    "scrolled": true
   },
   "outputs": [],
   "source": [
    "from confluent_kafka import Producer\n",
    "import json\n",
    "import pandas as pd\n",
    "import time\n",
    "\n",
    "def json_serializer(data):\n",
    "    return json.dumps(data)\n",
    "\n",
    "def delivery_report(err, msg):\n",
    "    if err is not None:\n",
    "        print(f\"Message delivery failed: {err}\")\n",
    "    else:\n",
    "        print(f\"Message delivered to {msg.topic()} [{msg.partition()}] at offset {msg.offset()}\")\n",
    "\n",
    "if __name__ == \"__main__\":\n",
    "    data = pd.read_csv('data/data_recruitment_selection_update.csv')\n",
    "    json_data = data.to_dict(orient='records')\n",
    "    \n",
    "    conf = {\n",
    "        'bootstrap.servers': kafka_host,\n",
    "        'acks': 'all',\n",
    "    }\n",
    "    \n",
    "    producer = Producer(conf)\n",
    "\n",
    "    try:\n",
    "        for record in json_data:\n",
    "            print(record)\n",
    "            producer.produce(\"kelompok2-data-recruitment-selection\", value=json_serializer(record), callback=delivery_report)\n",
    "            producer.poll(0)\n",
    "            time.sleep(10)\n",
    "    except KeyboardInterrupt:\n",
    "        print(\"Producer interrupted\")\n",
    "    finally:\n",
    "        producer.flush()"
   ]
  }
 ],
 "metadata": {
  "kernelspec": {
   "display_name": "base",
   "language": "python",
   "name": "python3"
  },
  "language_info": {
   "codemirror_mode": {
    "name": "ipython",
    "version": 3
   },
   "file_extension": ".py",
   "mimetype": "text/x-python",
   "name": "python",
   "nbconvert_exporter": "python",
   "pygments_lexer": "ipython3",
   "version": "3.12.7"
  }
 },
 "nbformat": 4,
 "nbformat_minor": 5
}
